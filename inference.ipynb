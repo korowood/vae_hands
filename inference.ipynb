{
 "cells": [
  {
   "cell_type": "code",
   "execution_count": 7,
   "id": "1c2f550f-0327-4b67-bd42-24daeb9dcb14",
   "metadata": {},
   "outputs": [],
   "source": [
    "import os\n",
    "import torch\n",
    "from model_vae import VAE\n",
    "import numpy as np\n",
    "\n",
    "\n",
    "import torchvision.utils as vutils\n",
    "import matplotlib.pyplot as plt\n",
    "\n",
    "\n",
    "torch.cuda.set_device(\"cuda:0\")"
   ]
  },
  {
   "cell_type": "code",
   "execution_count": 3,
   "id": "28ee3ed7-1146-4fb5-ac23-97bc6ac8a43e",
   "metadata": {},
   "outputs": [],
   "source": [
    "model = VAE()\n",
    "device = torch.device('cuda' if torch.cuda.is_available() else 'cpu')\n",
    "model = model.to(device)\n",
    "\n",
    "try:\n",
    "    model.load_state_dict(torch.load('weights/vae7.pth'))\n",
    "except:\n",
    "    print(\"Weights not found ):\")\n"
   ]
  },
  {
   "cell_type": "code",
   "execution_count": 8,
   "id": "21675066-b0a2-4731-a907-7edec6507264",
   "metadata": {},
   "outputs": [
    {
     "name": "stdout",
     "output_type": "stream",
     "text": [
      "Сохранено 10 картинок в директорию ./generated_images\n"
     ]
    }
   ],
   "source": [
    "def generate_and_save_images(model, n, path, k=1):\n",
    "    # Убедитесь, что директория для сохранения существует\n",
    "    os.makedirs(path, exist_ok=True)\n",
    "\n",
    "    # Генерация n картинок\n",
    "    for i in range(n):\n",
    "        # Генерируем случайный латентный вектор\n",
    "        random_vector = torch.randn(k, 32, device=device)\n",
    "\n",
    "        # Декодируем с помощью модели\n",
    "        decoded_image = model.decode(random_vector)\n",
    "\n",
    "        # Преобразуем изображение в формат numpy\n",
    "        img = np.transpose(vutils.make_grid(decoded_image, padding=2).cpu().detach().numpy(), (1, 2, 0))\n",
    "\n",
    "        # Сохраняем каждую картинку\n",
    "        plt.axis(\"off\")\n",
    "        plt.imshow(img)\n",
    "        file_path = os.path.join(path, f\"generated_image_{i+1}.png\")\n",
    "        plt.savefig(file_path)\n",
    "        plt.close()  # Закрываем plt после каждого сохранения, чтобы избежать наложений\n",
    "\n",
    "    print(f\"Сохранено {n} картинок в директорию {path}\")\n",
    "\n",
    "# Пример использования:\n",
    "n = 10  # Количество картинок для генерации\n",
    "path = \"./generated_images\"  # Путь, куда сохранять изображения\n",
    "generate_and_save_images(model, n, path)"
   ]
  },
  {
   "cell_type": "code",
   "execution_count": null,
   "id": "a75ca4dc-e0b5-4a14-ac6d-3cf1d0a9b23d",
   "metadata": {},
   "outputs": [],
   "source": []
  }
 ],
 "metadata": {
  "kernelspec": {
   "display_name": "Python 3 (ipykernel)",
   "language": "python",
   "name": "python3"
  },
  "language_info": {
   "codemirror_mode": {
    "name": "ipython",
    "version": 3
   },
   "file_extension": ".py",
   "mimetype": "text/x-python",
   "name": "python",
   "nbconvert_exporter": "python",
   "pygments_lexer": "ipython3",
   "version": "3.8.19"
  }
 },
 "nbformat": 4,
 "nbformat_minor": 5
}
